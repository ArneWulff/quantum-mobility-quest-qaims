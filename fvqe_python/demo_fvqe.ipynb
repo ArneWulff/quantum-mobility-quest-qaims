{
 "cells": [
  {
   "cell_type": "code",
   "execution_count": 1,
   "id": "1b5ecf7f-e1aa-4601-b855-b790d9827a48",
   "metadata": {},
   "outputs": [],
   "source": [
    "import numpy as np\n",
    "from numpy.typing import NDArray\n",
    "import matplotlib.pyplot as plt\n",
    "import h5py\n",
    "from datetime import datetime"
   ]
  },
  {
   "cell_type": "markdown",
   "id": "585f0900-7b6c-4df2-a911-9f4ff0c169ec",
   "metadata": {},
   "source": [
    "<p style=\"text-align:center;font-size:3em;font-weight:bold;\"> Demonstration of python code for stacking sequence retrieval with F-VQE </p>\n",
    "\n",
    "⚠ **Disclaimer:** This code repository is provided for demonstration and exploration purposes as part of our competition entry. It is experimental and may contain inaccuracies or incomplete functionality. We encourage others to review and experiment with it, but we do not guarantee correctness or reliability, nor do we accept any responsibility for issues arising from its use.\n",
    "\n",
    "---\n",
    "\n",
    "This notebook demonstrates the most important methods and classes that we implemented for applying F-VQE to stacking sequence retrieval, for lamination parameter search and bukcling factor maximization."
   ]
  },
  {
   "cell_type": "markdown",
   "id": "11daacf7-624d-4f2d-aa3d-36d15997b5ec",
   "metadata": {},
   "source": [
    "# Definition of the laminate"
   ]
  },
  {
   "cell_type": "code",
   "execution_count": 2,
   "id": "aa409c30-147f-4438-942e-94e815392589",
   "metadata": {},
   "outputs": [],
   "source": [
    "from ssr_with_fvqe.laminate import create_laminate, generate_funcs, Laminate"
   ]
  },
  {
   "cell_type": "markdown",
   "id": "ff534f91-de59-4d3c-821d-f7c2c0e938d1",
   "metadata": {},
   "source": [
    "🔷 Specification of the laminate"
   ]
  },
  {
   "cell_type": "code",
   "execution_count": 3,
   "id": "652285dd-22bd-47a0-ba05-916506d8b3a6",
   "metadata": {},
   "outputs": [],
   "source": [
    "num_plies = 8\n",
    "angles = np.array([0,45,90,-45])\n",
    "deg = True\n",
    "symmetric = True\n",
    "weight_types = 'AD'\n",
    "\n",
    "# sin(4x) = 0 for conventional angles \n",
    "angle_functions = (\n",
    "    lambda x: np.cos(2 * x),\n",
    "    lambda x: np.sin(2 * x),\n",
    "    lambda x: np.cos(4 * x),\n",
    "    # lambda x: np.sin(4 * x),\n",
    ")"
   ]
  },
  {
   "cell_type": "markdown",
   "id": "91609961-f145-42ca-a8df-52f5aa9d0023",
   "metadata": {},
   "source": [
    "🔷 Optional rounding for obtaining the precise ply-angle function values in the case of conventional ply angles"
   ]
  },
  {
   "cell_type": "code",
   "execution_count": 4,
   "id": "dcef3eb2-f4c9-422f-b438-f7c537a545a2",
   "metadata": {},
   "outputs": [
    {
     "name": "stdout",
     "output_type": "stream",
     "text": [
      "Without rounding:\n",
      "[[ 1.0000000e+00  0.0000000e+00  1.0000000e+00]\n",
      " [ 6.1232340e-17  1.0000000e+00 -1.0000000e+00]\n",
      " [-1.0000000e+00  1.2246468e-16  1.0000000e+00]\n",
      " [ 6.1232340e-17 -1.0000000e+00 -1.0000000e+00]]\n",
      "\n",
      "With rounding:\n",
      "[[ 1.  0.  1.]\n",
      " [ 0.  1. -1.]\n",
      " [-1.  0.  1.]\n",
      " [ 0. -1. -1.]]\n"
     ]
    }
   ],
   "source": [
    "funcs_round_decimals = 5\n",
    "print(\"Without rounding:\")\n",
    "print(\n",
    "    generate_funcs(angles, angle_functions, deg)\n",
    ")\n",
    "\n",
    "print(\"\\nWith rounding:\")\n",
    "print(\n",
    "    generate_funcs(angles, angle_functions, deg, funcs_round_decimals)\n",
    ")"
   ]
  },
  {
   "cell_type": "markdown",
   "id": "52ce2cec-7564-4d26-bf4e-a76dd67d36ee",
   "metadata": {},
   "source": [
    "🔷 Create the `Laminate` instance, which is used to define laminate specifications throughout various methods"
   ]
  },
  {
   "cell_type": "code",
   "execution_count": 5,
   "id": "1e075f92-e4ab-43b4-8666-a1ef8669fe9f",
   "metadata": {},
   "outputs": [
    {
     "name": "stdout",
     "output_type": "stream",
     "text": [
      "laminate.num_plies = 8\n",
      "laminate.num_angles = 4\n",
      "laminate.num_weights = 2\n",
      "laminate.num_funcs = 3\n",
      "laminate.weights.shape = (2, 8)\n",
      "laminate.funcs.shape = (4, 3)\n"
     ]
    }
   ],
   "source": [
    "laminate: Laminate = create_laminate(\n",
    "    num_plies, angles, symmetric=symmetric, weight_types=weight_types,\n",
    "    angle_functions=angle_functions,deg=deg,funcs_round_decimals=funcs_round_decimals   \n",
    ")\n",
    "\n",
    "for attr_name in (\n",
    "    \"num_plies\", \"num_angles\",  \"num_weights\", \"num_funcs\",\n",
    "):\n",
    "    print(f\"laminate.{attr_name} = {getattr(laminate, attr_name)}\")\n",
    "for attr_name in (\"weights\", \"funcs\"):\n",
    "    print(f\"laminate.{attr_name}.shape = {getattr(laminate, attr_name).shape}\")"
   ]
  },
  {
   "cell_type": "markdown",
   "id": "77eb30cb-c603-4457-95e6-367b450aa58c",
   "metadata": {},
   "source": [
    "🔷 Stacking sequences contain the ply-angle indices in `angles`"
   ]
  },
  {
   "cell_type": "code",
   "execution_count": 6,
   "id": "cae9c69c-96da-47a0-8073-33310338f32c",
   "metadata": {},
   "outputs": [
    {
     "name": "stdout",
     "output_type": "stream",
     "text": [
      "[  0  45  45   0 -45  90 -45   0]\n"
     ]
    }
   ],
   "source": [
    "stack = np.array([0,1,1,0,3,2,3,0])\n",
    "\n",
    "print(angles[stack])"
   ]
  },
  {
   "cell_type": "markdown",
   "id": "8de77bcd-317a-4f5b-a0d5-c5dc0a8759f0",
   "metadata": {},
   "source": [
    "🔷 Calculating the lamination parameters of the stacking sequence"
   ]
  },
  {
   "cell_type": "code",
   "execution_count": 7,
   "id": "93949968-10be-4b5e-b1cc-fc5f94f450d5",
   "metadata": {},
   "outputs": [
    {
     "data": {
      "text/plain": [
       "array([[ 0.25      ,  0.        ,  0.        ],\n",
       "       [ 0.2265625 , -0.31640625,  0.1640625 ]])"
      ]
     },
     "execution_count": 7,
     "metadata": {},
     "output_type": "execute_result"
    }
   ],
   "source": [
    "laminate.parameters(stack)"
   ]
  },
  {
   "cell_type": "markdown",
   "id": "e72d0599-c539-4435-b5da-539deceb881e",
   "metadata": {},
   "source": [
    "# Constraints"
   ]
  },
  {
   "cell_type": "code",
   "execution_count": 8,
   "id": "0401861f-d76c-4b68-9832-1ee5e9f432ce",
   "metadata": {},
   "outputs": [],
   "source": [
    "from ssr_with_fvqe.constraints import ConstraintSettings"
   ]
  },
  {
   "cell_type": "markdown",
   "id": "00e4d059-42de-4daa-b2e0-1a54d3c0eaad",
   "metadata": {},
   "source": [
    "🔷 The constraints use the following convention:\n",
    "- **Disorientation constrait:** a matrix, where position `(s1,s2)` is `1` if angles `s1` and `s2` violate the disorientation constraint, and `0` else\n",
    "- **Contiguity constraint:** an integer for the maximum allowed of consecutive same-angle plies\n",
    "- **Balanced condition:** A tuple `(s1,s2)` or a list of such tuple, which specifies ply-angles `s1` and `s2` to have the same counts\n",
    "- **10% rule:** A float for the minimum ratio of all ply-angles (counting balanced angles together), or a list of floats specifying the ratio for angles individually"
   ]
  },
  {
   "cell_type": "code",
   "execution_count": 9,
   "id": "6522dbca-4719-46a9-87de-065d06706c9e",
   "metadata": {},
   "outputs": [],
   "source": [
    "disorientation_matrix = np.array([[0, 0, 1, 0],\n",
    "                                  [0, 0, 0, 1],\n",
    "                                  [1, 0, 0, 0],\n",
    "                                  [0, 1, 0, 0]])\n",
    "contiguity_distance = 5\n",
    "balanced_angles = (1, 3)\n",
    "percent_rule = 0.1"
   ]
  },
  {
   "cell_type": "markdown",
   "id": "2764d4f0-04da-4b0c-b319-bc3808b97c48",
   "metadata": {},
   "source": [
    "🔷 Constraints are summarized in the an instance of the `ConstraintSettings` class, which also defines the penalty weights"
   ]
  },
  {
   "cell_type": "code",
   "execution_count": 10,
   "id": "6a2a64f0-1165-4b69-9cd4-446bbf47f4f7",
   "metadata": {},
   "outputs": [],
   "source": [
    "constraints = ConstraintSettings(\n",
    "    laminate,\n",
    "    disorientation_matrix=disorientation_matrix,\n",
    "    contiguity_distance=contiguity_distance,\n",
    "    balanced_angles=balanced_angles,\n",
    "    percent_rule=percent_rule,\n",
    "    disorientation_penalty=0.05,\n",
    "    contiguity_penalty=0.05,\n",
    "    balanced_penalty=0.05,\n",
    "    percent_penalty=0.05,\n",
    ")"
   ]
  },
  {
   "cell_type": "markdown",
   "id": "de4e2501-a449-403e-bb0b-a975e58dcca1",
   "metadata": {},
   "source": [
    "🔷 The class can be used to count the constraint violations of a stacking sequence, or calculate the penalty"
   ]
  },
  {
   "cell_type": "code",
   "execution_count": 11,
   "id": "d45828fb-bc49-4129-9f30-9062214cf450",
   "metadata": {},
   "outputs": [
    {
     "data": {
      "text/plain": [
       "{'disorientation': 1, 'contiguity': 1, 'balanced': 5, 'percent': 1}"
      ]
     },
     "execution_count": 11,
     "metadata": {},
     "output_type": "execute_result"
    }
   ],
   "source": [
    "stack = np.array([1,3,3,3,3,3,3,2])\n",
    "constraints.count_constraint_violations(stack)"
   ]
  },
  {
   "cell_type": "code",
   "execution_count": 12,
   "id": "5a7481be-a45a-498c-8a20-793107490541",
   "metadata": {},
   "outputs": [
    {
     "data": {
      "text/plain": [
       "0.39999999999999997"
      ]
     },
     "execution_count": 12,
     "metadata": {},
     "output_type": "execute_result"
    }
   ],
   "source": [
    "constraints.penalty(stack)"
   ]
  },
  {
   "cell_type": "markdown",
   "id": "3df98723-1634-4553-aa5d-e5dbb486380c",
   "metadata": {},
   "source": [
    "# Qubit encoding"
   ]
  },
  {
   "cell_type": "code",
   "execution_count": 13,
   "id": "a5dc7a2c-01dc-4038-8601-b5037f7f41c2",
   "metadata": {},
   "outputs": [],
   "source": [
    "from ssr_with_fvqe.encoding import (\n",
    "    stack_to_state, state_to_stack, \n",
    "    stack_to_dense, dense_to_stack,\n",
    "    state_to_dense, dense_to_state\n",
    ")"
   ]
  },
  {
   "cell_type": "markdown",
   "id": "78051f1a-c9fa-42e6-bca0-9059813b3928",
   "metadata": {},
   "source": [
    "🔷 Encoding as a `Sequence` of tuples with `encoding[angle_idx] = (q1,q2,...)` and `q1,q2,... in (0,1)` representing the qubit encoding of `angle_idx`. Functions `state_to_stack` and `stack_to_state` convert between stacking sequences and qubit states"
   ]
  },
  {
   "cell_type": "code",
   "execution_count": 14,
   "id": "7f86abed-4666-4142-a153-61353a745a85",
   "metadata": {},
   "outputs": [
    {
     "data": {
      "text/plain": [
       "'0001010010111000'"
      ]
     },
     "execution_count": 14,
     "metadata": {},
     "output_type": "execute_result"
    }
   ],
   "source": [
    "encoding = [\n",
    "    (0, 0), (0, 1), (1, 1), (1, 0)\n",
    "]\n",
    "num_qubits = num_plies * len(encoding[0])\n",
    "\n",
    "stack = np.array([0,1,1,0,3,2,3,0])\n",
    "\n",
    "stack_to_state(stack, encoding)"
   ]
  },
  {
   "cell_type": "code",
   "execution_count": 15,
   "id": "4ca9cdc3-0801-48a1-8ac9-b175a04aa760",
   "metadata": {},
   "outputs": [
    {
     "data": {
      "text/plain": [
       "array([0, 1, 1, 0, 3, 2, 3, 0])"
      ]
     },
     "execution_count": 15,
     "metadata": {},
     "output_type": "execute_result"
    }
   ],
   "source": [
    "state_to_stack('0001010010111000', encoding)"
   ]
  },
  {
   "cell_type": "markdown",
   "id": "803a14a0-62b8-42f1-8b60-7435851cd93b",
   "metadata": {},
   "source": [
    "🔷 In some cases, one might also want a dense bit representation of the state"
   ]
  },
  {
   "cell_type": "code",
   "execution_count": 16,
   "id": "4bbb7f88-8a15-45a4-8ddf-2a99692ecb91",
   "metadata": {},
   "outputs": [
    {
     "data": {
      "text/plain": [
       "(7464, '0001010010111000', array([0, 1, 1, 0, 3, 2, 3, 0]))"
      ]
     },
     "execution_count": 16,
     "metadata": {},
     "output_type": "execute_result"
    }
   ],
   "source": [
    "state_dense = stack_to_dense(stack, encoding)\n",
    "state_dense, dense_to_state(state_dense, num_qubits), dense_to_stack(state_dense, num_qubits, encoding)"
   ]
  },
  {
   "cell_type": "markdown",
   "id": "68898cfc-8f30-491e-8a8f-b3a0c290e44b",
   "metadata": {},
   "source": [
    "# Representation of parameterized quantum circuits\n",
    "\n",
    "## Hardware efficient (RY, CNOT)"
   ]
  },
  {
   "cell_type": "code",
   "execution_count": 17,
   "id": "37ae2aa8-fce3-49e5-a92d-40eff6a72253",
   "metadata": {},
   "outputs": [],
   "source": [
    "from ssr_with_fvqe.parameterized_state import parameterized_hwe_state"
   ]
  },
  {
   "cell_type": "markdown",
   "id": "084eebff-f28a-4a34-bbe3-2c0ff2a4f0b3",
   "metadata": {},
   "source": [
    "🔷 The class `ParameterizedState` defines a quantum circuit that contains $R_y$ and $\\mathrm{CNOT}$. The hardware efficient circuit that we use is generated with `parameterized_hwe_state`."
   ]
  },
  {
   "cell_type": "code",
   "execution_count": 18,
   "id": "c90b3bae-4c02-4fd4-b532-f144054fd242",
   "metadata": {},
   "outputs": [
    {
     "name": "stdout",
     "output_type": "stream",
     "text": [
      "Printout VQC layers:\n",
      "\n",
      "Layer 0, gates ry:\n",
      "  (0, p[0]) (1, p[1]) (2, p[2]) (3, p[3]) (4, p[4])\n",
      "  (5, p[5]) (6, p[6]) (7, p[7]) (8, p[8]) (9, p[9])\n",
      "  (10, p[10]) (11, p[11]) (12, p[12]) (13, p[13]) (14, p[14])\n",
      "  (15, p[15])\n",
      "\n",
      "Layer 1, gates cnot:\n",
      "  (0, 1) (2, 3) (4, 5) (6, 7) (8, 9) (10, 11) (12, 13) (14, 15)\n",
      "\n",
      "Layer 2, gates ry:\n",
      "  (0, p[16]) (1, p[17]) (2, p[18]) (3, p[19]) (4, p[20])\n",
      "  (5, p[21]) (6, p[22]) (7, p[23]) (8, p[24]) (9, p[25])\n",
      "  (10, p[26]) (11, p[27]) (12, p[28]) (13, p[29]) (14, p[30])\n",
      "  (15, p[31])\n",
      "\n",
      "Layer 3, gates cnot:\n",
      "  (1, 2) (3, 4) (5, 6) (7, 8) (9, 10) (11, 12) (13, 14)\n",
      "\n",
      "Layer 4, gates ry:\n",
      "  (1, p[32]) (2, p[33]) (3, p[34]) (4, p[35]) (5, p[36])\n",
      "  (6, p[37]) (7, p[38]) (8, p[39]) (9, p[40]) (10, p[41])\n",
      "  (11, p[42]) (12, p[43]) (13, p[44]) (14, p[45])\n",
      "\n",
      "Layer 5, gates cnot:\n",
      "  (0, 1) (2, 3) (4, 5) (6, 7) (8, 9) (10, 11) (12, 13) (14, 15)\n",
      "\n",
      "Layer 6, gates ry:\n",
      "  (0, p[46]) (1, p[47]) (2, p[48]) (3, p[49]) (4, p[50])\n",
      "  (5, p[51]) (6, p[52]) (7, p[53]) (8, p[54]) (9, p[55])\n",
      "  (10, p[56]) (11, p[57]) (12, p[58]) (13, p[59]) (14, p[60])\n",
      "  (15, p[61])\n",
      "\n",
      "Layer 7, gates cnot:\n",
      "  (1, 2) (3, 4) (5, 6) (7, 8) (9, 10) (11, 12) (13, 14)\n",
      "\n",
      "Layer 8, gates ry:\n",
      "  (1, p[62]) (2, p[63]) (3, p[64]) (4, p[65]) (5, p[66])\n",
      "  (6, p[67]) (7, p[68]) (8, p[69]) (9, p[70]) (10, p[71])\n",
      "  (11, p[72]) (12, p[73]) (13, p[74]) (14, p[75])\n",
      "\n"
     ]
    }
   ],
   "source": [
    "num_reps = 2\n",
    "num_qubits = len(encoding[0]) * num_plies\n",
    "\n",
    "vqc = parameterized_hwe_state(num_qubits, num_reps)\n",
    "\n",
    "print(\"Printout VQC layers:\\n\")\n",
    "for lidx,layer in enumerate(vqc.layers):\n",
    "    print(f\"Layer {lidx}, gates {layer[0]}:\")\n",
    "    if layer[0] == 'cnot':\n",
    "        print(\" \",*layer[1])\n",
    "    elif layer[0] == 'ry':\n",
    "        for n in range(0,len(layer[1]),5):\n",
    "            print(\" \",*(f\"({l[0]}, p[{l[1]}])\" for l in layer[1][n:n+5]))\n",
    "    print()"
   ]
  },
  {
   "cell_type": "markdown",
   "id": "b354392e-6027-4f35-b437-4803567a6e77",
   "metadata": {},
   "source": [
    "🔷 The parameterized state can be evaluated for specific parameter values. As this circuit only produdes real values, we represent calculated final state vectors as an numpy array with `dtype = float`."
   ]
  },
  {
   "cell_type": "code",
   "execution_count": 19,
   "id": "a0ee2496-a658-475a-979a-0685d0421fcd",
   "metadata": {},
   "outputs": [
    {
     "data": {
      "text/plain": [
       "(numpy.ndarray,\n",
       " dtype('float64'),\n",
       " (2, 2, 2, 2, 2, 2, 2, 2, 2, 2, 2, 2, 2, 2, 2, 2))"
      ]
     },
     "execution_count": 19,
     "metadata": {},
     "output_type": "execute_result"
    }
   ],
   "source": [
    "pars = np.random.random(vqc.num_params)*2*np.pi\n",
    "\n",
    "state_eval = vqc.evaluate(pars)\n",
    "\n",
    "type(state_eval), state_eval.dtype, state_eval.shape"
   ]
  },
  {
   "cell_type": "markdown",
   "id": "58dd7e9e-cd2d-4513-95f3-2db9758f1b9f",
   "metadata": {},
   "source": [
    "🔷 Instead of returning a state vector, one can also sample from the according probability distribution. As F-VQE heavily reuses the energies of the measured state, these are also stored in the `Counts` class, that the sampling method returns. One therefore needs to provide an energy function (and if it is just `lambda x: 0.`) to the sampling method. **The energy function takes the dense integer representation as argument**, this can be achieved with the above mentioned methods to convert and to the required integers."
   ]
  },
  {
   "cell_type": "code",
   "execution_count": 20,
   "id": "36a0319c-2258-4180-91d7-a9c07467969d",
   "metadata": {},
   "outputs": [],
   "source": [
    "target_stack = np.array([0,1,1,0,3,2,3,0])\n",
    "target_parameters = laminate.parameters(target_stack)\n",
    "\n",
    "energy_fn = lambda x: np.sqrt(np.sum(\n",
    "    (laminate.parameters(dense_to_stack(x,num_qubits,encoding)) - target_parameters).flatten()**2\n",
    "))\n",
    "\n",
    "counts = vqc.sample(pars, energy_fn, shots=1000)"
   ]
  },
  {
   "cell_type": "markdown",
   "id": "dcd00c3a-be50-40bf-b703-dfa477030c8b",
   "metadata": {},
   "source": [
    "🔷 An instance of `Counts` class "
   ]
  },
  {
   "cell_type": "code",
   "execution_count": 21,
   "id": "03ce8883-0560-4c48-bb27-add34ac152df",
   "metadata": {},
   "outputs": [
    {
     "name": "stdout",
     "output_type": "stream",
     "text": [
      "States (in dense bit representation):\n",
      "[   1   23   24   37  920  935 1024 1032 1050 1112]\n",
      "\n",
      "States:\n",
      "['1000000000000000' '1110100000000000' '0001100000000000'\n",
      " '1010010000000000' '0001100111000000' '1110010111000000'\n",
      " '0000000000100000' '0001000000100000' '0101100000100000'\n",
      " '0001101000100000']\n",
      "\n",
      "Counts:\n",
      "[1 1 1 1 1 1 1 1 1 1]\n",
      "\n",
      "Total number of counts: 1000\n",
      "\n",
      "Probabilities:\n",
      "[0.001 0.001 0.001 0.001 0.001 0.001 0.001 0.001 0.001 0.001]\n",
      "\n",
      "Energies:\n",
      "[1.53463185 1.22534275 1.28349888 1.17725004 0.86307354 0.88211653\n",
      " 1.25446894 1.03309789 0.7153132  0.63653899]\n"
     ]
    }
   ],
   "source": [
    "print(\"States (in dense bit representation):\")\n",
    "print(counts.states[:10])\n",
    "print(\"\\nStates:\")\n",
    "print(np.array([dense_to_state(x, num_qubits) for x in counts.states[:10]]))\n",
    "print(\"\\nCounts:\")\n",
    "print(counts.counts[:10])\n",
    "print(\"\\nTotal number of counts:\", counts.num_counts)\n",
    "print(\"\\nProbabilities:\")\n",
    "print(counts.probs[:10])\n",
    "print(\"\\nEnergies:\")\n",
    "print(counts.energies[:10])"
   ]
  },
  {
   "cell_type": "markdown",
   "id": "ae580541-61b7-451d-81d6-f6de7158c688",
   "metadata": {},
   "source": [
    "## Permutation circuit (partial swaps)"
   ]
  },
  {
   "cell_type": "code",
   "execution_count": 22,
   "id": "c64dfd70-340c-4383-b63e-d2940ce4913f",
   "metadata": {},
   "outputs": [],
   "source": [
    "from ssr_with_fvqe.parameterized_state_perm import parameterized_perm_state"
   ]
  },
  {
   "cell_type": "markdown",
   "id": "b9a3a42a-b9c8-4d64-b95e-e9919bd6c7e8",
   "metadata": {},
   "source": [
    "🔷 The variational quantum circuit implementing permutations using partial swap gates is realized in the `ParameterizedStatePerm` class, which only may contain these partial swap gates. Instead of specifying the fixed gates for preparing the initial state, the initial state is passed directly to the class as a string of `'0'` and `'1'`. The specific circuit that we used, which has one gate for each pair of plies, is generated by the method `parameterized_perm_state`. **The class `ParameterizedStatePerm` is hardcoded for the encoding `[(0,0), (0,1), (1,1), (1,0)]` as it is used throughout this notebook.** "
   ]
  },
  {
   "cell_type": "code",
   "execution_count": 23,
   "id": "8e0e70e0-1c0e-4bd1-b4e8-a12c2738ad60",
   "metadata": {},
   "outputs": [
    {
     "name": "stdout",
     "output_type": "stream",
     "text": [
      "Printout VQC layers:\n",
      "\n",
      "Layer 0:\n",
      "  ((0, 1, 2, 3), p[0]) ((4, 5, 6, 7), p[1]) ((8, 9, 10, 11), p[2])\n",
      "  ((12, 13, 14, 15), p[3])\n",
      "\n",
      "Layer 1:\n",
      "  ((2, 3, 4, 5), p[4]) ((6, 7, 8, 9), p[5]) ((10, 11, 12, 13), p[6])\n",
      "  ((14, 15, 0, 1), p[7])\n",
      "\n",
      "Layer 2:\n",
      "  ((0, 1, 4, 5), p[8]) ((2, 3, 6, 7), p[9]) ((8, 9, 12, 13), p[10])\n",
      "  ((10, 11, 14, 15), p[11])\n",
      "\n",
      "Layer 3:\n",
      "  ((4, 5, 8, 9), p[12]) ((6, 7, 10, 11), p[13]) ((12, 13, 0, 1), p[14])\n",
      "  ((14, 15, 2, 3), p[15])\n",
      "\n",
      "Layer 4:\n",
      "  ((0, 1, 6, 7), p[16]) ((2, 3, 8, 9), p[17]) ((4, 5, 10, 11), p[18])\n",
      "  ((12, 13, 2, 3), p[19]) ((14, 15, 4, 5), p[20])\n",
      "\n",
      "Layer 5:\n",
      "  ((6, 7, 12, 13), p[21]) ((8, 9, 14, 15), p[22]) ((10, 11, 0, 1), p[23])\n",
      "\n",
      "Layer 6:\n",
      "  ((0, 1, 8, 9), p[24]) ((2, 3, 10, 11), p[25]) ((4, 5, 12, 13), p[26])\n",
      "  ((6, 7, 14, 15), p[27])\n",
      "\n"
     ]
    }
   ],
   "source": [
    "initial_stack = np.array([0,1,1,0,3,2,3,0])\n",
    "initial_state = stack_to_state(initial_stack, encoding)\n",
    "\n",
    "vqc_perm = parameterized_perm_state(initial_state, num_reps=1)\n",
    "\n",
    "print(\"Printout VQC layers:\\n\")\n",
    "for lidx,layer in enumerate(vqc_perm.layers):\n",
    "    print(f\"Layer {lidx}:\")\n",
    "    for n in range(0,len(layer),3):\n",
    "        print(\" \",*(f\"({l[0]}, p[{l[1]}])\" for l in layer[n:n+3]))\n",
    "    print()"
   ]
  },
  {
   "cell_type": "markdown",
   "id": "bb83a5c2-1809-4d5c-842c-06656474d86c",
   "metadata": {},
   "source": [
    "🔷 Evaluating state vectors and sampling from the according probability distribution works exactly as in `ParameterizedState`."
   ]
  },
  {
   "cell_type": "code",
   "execution_count": 24,
   "id": "c8a49676-ff88-4dda-a285-47515f9fd015",
   "metadata": {},
   "outputs": [
    {
     "data": {
      "text/plain": [
       "(2, 2, 2, 2, 2, 2, 2, 2, 2, 2, 2, 2, 2, 2, 2, 2)"
      ]
     },
     "execution_count": 24,
     "metadata": {},
     "output_type": "execute_result"
    }
   ],
   "source": [
    "pars_perm = np.random.random(vqc_perm.num_params) * 2 * np.pi\n",
    "vqc_perm.evaluate(pars_perm).shape"
   ]
  },
  {
   "cell_type": "code",
   "execution_count": 25,
   "id": "bbeb3dbb-4212-4383-91c3-7b51845e3ccc",
   "metadata": {},
   "outputs": [
    {
     "data": {
      "text/plain": [
       "ssr_with_fvqe.counts.Counts"
      ]
     },
     "execution_count": 25,
     "metadata": {},
     "output_type": "execute_result"
    }
   ],
   "source": [
    "type(vqc_perm.sample(pars_perm, energy_fn))"
   ]
  },
  {
   "cell_type": "markdown",
   "id": "f7a502a2-ee1b-4b94-8bef-057f30a67dec",
   "metadata": {},
   "source": [
    "# F-VQE"
   ]
  },
  {
   "cell_type": "code",
   "execution_count": 26,
   "id": "a051cba9-0bb5-46f2-8583-d4100ef092a8",
   "metadata": {},
   "outputs": [],
   "source": [
    "from ssr_with_fvqe.fvqe import run_fvqe, get_filter_fn"
   ]
  },
  {
   "cell_type": "markdown",
   "id": "e81cd224-2ffb-4574-bc5a-8761766a73d8",
   "metadata": {},
   "source": [
    "🔷 Generic F-VQE is implemented in the `run_fvqe` method. The type of variational quantum circuit is passed as a string, with `'hwe'` for the HWE circuit and `'perm'` for the permutation circuit above."
   ]
  },
  {
   "cell_type": "code",
   "execution_count": 27,
   "id": "33571b47-558b-4033-889e-09bee5b9f71d",
   "metadata": {
    "scrolled": true
   },
   "outputs": [
    {
     "name": "stdout",
     "output_type": "stream",
     "text": [
      "Starting optimization...\n",
      "Initial energy: 0.9179\n",
      "\n",
      "Iteration 0\n",
      "-----------\n",
      "\n",
      "average tau: 1.0749999999999997\n",
      "gradient norm: 0.24374527103566812\n",
      "energy: 0.911935\n",
      "function calls: 153\n",
      "\n",
      "timestamp: 00:00:08.80\n",
      "\n",
      "Iteration 1\n",
      "-----------\n",
      "\n",
      "average tau: 0.9809374999999994\n",
      "gradient norm: 0.24666349490529882\n",
      "energy: 0.883051\n",
      "function calls: 153\n",
      "\n",
      "timestamp: 00:00:17.85\n",
      "\n",
      "Iteration 2\n",
      "-----------\n",
      "\n",
      "average tau: 0.9748066406249998\n",
      "gradient norm: 0.2440821949777188\n",
      "energy: 0.874223\n",
      "function calls: 153\n",
      "\n",
      "timestamp: 00:00:26.73\n",
      "\n",
      "Iteration 3\n",
      "-----------\n",
      "\n",
      "average tau: 0.9626215576171872\n",
      "gradient norm: 0.24577538904414165\n",
      "energy: 0.861659\n",
      "function calls: 153\n",
      "\n",
      "timestamp: 00:00:35.54\n",
      "\n",
      "Iteration 4\n",
      "-----------\n",
      "\n",
      "average tau: 0.8904249407958982\n",
      "gradient norm: 0.24717040494404904\n",
      "energy: 0.824312\n",
      "function calls: 153\n",
      "\n",
      "timestamp: 00:00:45.19\n",
      "\n"
     ]
    }
   ],
   "source": [
    "filter_fn = get_filter_fn('inverse')\n",
    "\n",
    "# only 5 iterations for demo\n",
    "fvqe_results = run_fvqe(\n",
    "    num_qubits, num_reps, energy_fn, filter_fn,\n",
    "    shots=1000, maxiter=5, max_tau=200,\n",
    "    adapt_tau_increment=True, g_c=0.25, vqc='hwe',\n",
    "    print_info=True    \n",
    ")"
   ]
  },
  {
   "cell_type": "markdown",
   "id": "ca783e9d-181d-4f96-8a1e-60a0983f2f4d",
   "metadata": {},
   "source": [
    "🔷 The method returns an instance of the `FvqeResults` class, which contains information about the optimization"
   ]
  },
  {
   "cell_type": "code",
   "execution_count": 28,
   "id": "7f2f2cfa-1f01-4c37-8e4e-88e43e983320",
   "metadata": {},
   "outputs": [
    {
     "name": "stdout",
     "output_type": "stream",
     "text": [
      "[ 2.76e-02 -9.82e-02 -5.39e-03 -9.25e-02 -4.09e-04 -1.60e-02 -1.02e-01\n",
      " -1.12e-01  5.97e-02 -8.92e-03 -1.18e-02  2.99e-03  3.61e-02  7.83e-02\n",
      " -7.18e-03 -4.80e-02 -3.68e-02 -1.20e-02 -8.31e-02  1.72e-02 -7.02e-02\n",
      " -3.39e-03 -4.32e-03  7.70e-03  1.31e-01  9.25e-03  1.28e-02  1.69e-03\n",
      "  2.11e-02 -1.60e-02  7.74e-02 -4.50e-02  8.27e-02 -1.34e-01  9.31e-02\n",
      " -2.01e-03 -1.45e-02 -3.85e-03 -3.49e-03  1.21e-01 -9.58e-03  3.30e-03\n",
      "  6.28e-03  1.05e-02  1.29e-01 -1.73e-02  1.29e+00 -1.09e-02 -1.66e-01\n",
      " -1.05e-02 -5.74e-03 -1.07e-02 -6.96e-02  1.95e-02 -5.07e-02  8.53e-03\n",
      " -3.16e-02 -6.81e-02  5.02e-02  9.36e-02 -1.68e-02  1.52e+00  1.56e+00\n",
      "  1.41e+00  1.67e+00  1.47e+00  1.57e+00  1.35e+00  1.56e+00  1.45e+00\n",
      "  1.44e+00  1.55e+00  1.52e+00  1.55e+00  1.32e+00  1.50e+00]\n"
     ]
    },
    {
     "data": {
      "image/png": "[encoded data removed]",
      "text/plain": [
       "<Figure size 640x480 with 1 Axes>"
      ]
     },
     "metadata": {},
     "output_type": "display_data"
    }
   ],
   "source": [
    "def round_to_num_signif_digits(arr: NDArray[float], precision: int = 1, tol: float = 1e-7):\n",
    "    mask = (np.abs(arr) > tol) # only use values larger than tolerance\n",
    "    first_digit = np.ceil(np.log10(np.abs(arr[mask])))\n",
    "    arr_rounded = np.zeros_like(arr, dtype=float)\n",
    "    arr_rounded[mask] = (arr[mask] / 10**first_digit).round(decimals = precision) * 10**first_digit\n",
    "    return arr_rounded\n",
    "    \n",
    "\n",
    "# print(\"Final VQC parameters (rounded to 3 significant digits):\")\n",
    "print(round_to_num_signif_digits(fvqe_results.parameters[-1], precision=3))\n",
    "\n",
    "fig, ax = plt.subplots()\n",
    "\n",
    "ax.plot(fvqe_results.energies,'r.--')\n",
    "ax.set_xlabel(\"Iteration\")\n",
    "ax.set_ylabel(\"Energy\")\n",
    "plt.show()"
   ]
  },
  {
   "cell_type": "markdown",
   "id": "35588752-c3cd-459b-aa46-0584daedf21e",
   "metadata": {},
   "source": [
    "# Stacking sequence retrieval with F-VQE"
   ]
  },
  {
   "cell_type": "code",
   "execution_count": 29,
   "id": "a5633185-4361-4d14-8a42-cfd6f6425969",
   "metadata": {},
   "outputs": [],
   "source": [
    "from ssr_with_fvqe.fvqe_experiment import FvqeOptions, fvqe_experiment, hdf5_to_fvqe_result"
   ]
  },
  {
   "cell_type": "markdown",
   "id": "bed2c32f-4095-44fd-bd56-156ab60f8747",
   "metadata": {},
   "source": [
    "🔷 The two types of experiments for which we employed F-VQE, lamination parameters search and buckling factor maximization, are implemented as seperate functions, which handle building the energy function including the penalties for constraints, run the algorithm and save the data in an HDF5 file. The arguments for `run_fvqe` are collected in an insance of the class `FvqeOptions`."
   ]
  },
  {
   "cell_type": "markdown",
   "id": "15ea56ba-709a-4aa5-a2c5-c954dbe3a1cb",
   "metadata": {},
   "source": [
    "## Lamination parameter search"
   ]
  },
  {
   "cell_type": "code",
   "execution_count": 30,
   "id": "49d5e8a2-cb21-4626-b568-e5310259a0c3",
   "metadata": {
    "scrolled": true
   },
   "outputs": [
    {
     "name": "stdout",
     "output_type": "stream",
     "text": [
      "Starting optimization...\n",
      "Initial energy: 1.1074\n",
      "\n",
      "Iteration 0\n",
      "-----------\n",
      "\n",
      "average tau: 0.9625000000000005\n",
      "gradient norm: 0.2504802497145332\n",
      "energy: 1.075514\n",
      "function calls: 153\n",
      "\n",
      "timestamp: 00:00:20.66\n",
      "\n",
      "Iteration 1\n",
      "-----------\n",
      "\n",
      "average tau: 0.8903125000000008\n",
      "gradient norm: 0.24443348582657334\n",
      "energy: 1.063044\n",
      "function calls: 153\n",
      "\n",
      "timestamp: 00:00:41.52\n",
      "\n",
      "Iteration 2\n",
      "-----------\n",
      "\n",
      "average tau: 0.9236992187500013\n",
      "gradient norm: 0.24519049271542173\n",
      "energy: 1.068656\n",
      "function calls: 153\n",
      "\n",
      "timestamp: 00:01:02.4\n",
      "\n",
      "Iteration 3\n",
      "-----------\n",
      "\n",
      "average tau: 0.808236816406251\n",
      "gradient norm: 0.25003756535295685\n",
      "energy: 1.055210\n",
      "function calls: 153\n",
      "\n",
      "timestamp: 00:01:23.33\n",
      "\n",
      "Iteration 4\n",
      "-----------\n",
      "\n",
      "average tau: 0.788030895996095\n",
      "gradient norm: 0.24382648488289932\n",
      "energy: 1.028381\n",
      "function calls: 153\n",
      "\n",
      "timestamp: 00:01:44.58\n",
      "\n"
     ]
    }
   ],
   "source": [
    "# only 5 iterations for demo\n",
    "fvqe_options = FvqeOptions(\n",
    "    num_reps=num_reps,\n",
    "    maxiter=5,\n",
    "    max_tau=200,\n",
    "    adapt_tau_increment=True,\n",
    "    g_c = 0.25,\n",
    "    filter_fn = 'inverse'\n",
    ")\n",
    "\n",
    "filepath = (datetime.now().strftime(\n",
    "    \"C:\\\\Users\\\\arnew\\\\Documents\\\\ExperimentalData\\\\vqa\\\\test_file\"\n",
    "    \"_%Y_%m_%d_%H_%M_%S.hdf5\"\n",
    "))\n",
    "\n",
    "fvqe_experiment(\n",
    "    filepath, laminate, target_parameters, \n",
    "    encoding, fvqe_options, vqc='hwe', lp_loss='rmse', \n",
    "    constraint_settings=constraints, print_info=True,\n",
    ")"
   ]
  },
  {
   "cell_type": "markdown",
   "id": "6b5f648d-7536-4ac8-a4ea-20970abbcf73",
   "metadata": {},
   "source": [
    "🔷 An instance of `FvqeResults` can be easily retrieved from the file."
   ]
  },
  {
   "cell_type": "code",
   "execution_count": 31,
   "id": "bb9a3237-3473-4c67-a382-1a99c9aa3c16",
   "metadata": {},
   "outputs": [
    {
     "name": "stdout",
     "output_type": "stream",
     "text": [
      "Final VQC parameters (rounded to 3 significant digits):\n",
      "[ 1.09e-02  6.70e-04  4.76e-02 -5.85e-02  2.53e-02 -1.70e-01 -5.30e-02\n",
      " -2.14e-01  6.75e-04  1.81e-01 -9.28e-03 -5.73e-02  6.18e-02  5.32e-02\n",
      " -5.84e-02 -6.58e-02 -1.47e-01 -6.02e-02 -2.26e-02 -6.81e-04 -6.10e-02\n",
      " -1.26e-02  1.09e-01 -1.97e-03  4.65e-02  1.60e-03  6.43e-03  4.37e-03\n",
      "  1.61e-03  1.04e-02 -7.40e-03 -6.81e-02  6.41e-02 -7.85e-02  7.47e-02\n",
      "  1.22e-03 -1.25e-01 -7.32e-03  4.00e-03  7.50e-02 -2.74e-03  1.02e-02\n",
      " -5.73e-02  2.62e-02  1.14e-01  1.97e-01  1.35e+00 -6.50e-03 -2.16e-01\n",
      "  6.13e-02 -9.62e-02  9.84e-03 -6.01e-02 -1.33e-01 -3.32e-02  3.82e-03\n",
      "  4.95e-02  9.17e-03  2.67e-02  5.86e-02 -2.00e-02  1.52e+00  1.55e+00\n",
      "  1.38e+00  1.67e+00  1.59e+00  1.62e+00  1.49e+00  1.59e+00  1.54e+00\n",
      "  1.52e+00  1.55e+00  1.52e+00  1.54e+00  1.37e+00  1.57e+00]\n"
     ]
    },
    {
     "data": {
      "image/png": "[encoded data removed]",
      "text/plain": [
       "<Figure size 640x480 with 1 Axes>"
      ]
     },
     "metadata": {},
     "output_type": "display_data"
    }
   ],
   "source": [
    "results = hdf5_to_fvqe_result(filepath)\n",
    "\n",
    "print(\"Final VQC parameters (rounded to 3 significant digits):\")\n",
    "print(round_to_num_signif_digits(results.parameters[-1], precision=3))\n",
    "\n",
    "fig, ax = plt.subplots()\n",
    "\n",
    "ax.plot(results.energies,'r.--')\n",
    "ax.set_xlabel(\"Iteration\")\n",
    "ax.set_ylabel(\"Energy\")\n",
    "plt.show()"
   ]
  },
  {
   "cell_type": "markdown",
   "id": "dc088991-2061-4924-9b76-5282b9450aa1",
   "metadata": {},
   "source": [
    "## Buckling factor maximization"
   ]
  },
  {
   "cell_type": "code",
   "execution_count": 32,
   "id": "3a796d74-fb93-4425-a40e-e446adfca792",
   "metadata": {},
   "outputs": [],
   "source": [
    "from ssr_with_fvqe.fvqe_experiment_buckling import fvqe_experiment_buckling"
   ]
  },
  {
   "cell_type": "markdown",
   "id": "09a69bbe-feae-4af6-9d46-122a81d7332a",
   "metadata": {},
   "source": [
    "🔷 The buckling factor depends on material properties, stresses and dimensions of the plate"
   ]
  },
  {
   "cell_type": "code",
   "execution_count": 33,
   "id": "bac664a2-1924-48fb-a1bd-f16f3fec8d29",
   "metadata": {},
   "outputs": [],
   "source": [
    "material_opts = dict(\n",
    "    E1 = 177.,  # GPa\n",
    "    E2 = 10.8,  # GPa\n",
    "    G12 = 7.6,  # GPa\n",
    "    nu12 = 0.27,\n",
    "    a = 1.,     # m\n",
    "    b = 1.,     # m\n",
    "    Nx = 2.,    # kN/m\n",
    "    Ny = 1.,    # kN/m\n",
    "    h = 1.,     # m\n",
    "    n = 1,\n",
    "    m = 1\n",
    ")"
   ]
  },
  {
   "cell_type": "markdown",
   "id": "d5799070-1df7-4bc1-9bce-4ce60ad9907e",
   "metadata": {},
   "source": [
    "🔷 The method for the buckling experiment `fvqe_experiment_buckling` requires the target ply angle counts instead of lamination parameters, but also a positive constant `max_buckling_factor` that should be larger then the largest possible buckling factor. This constant is added to the energy function to make it values positive, as it contains the negative buckling factor to enable minimization instead of maximization."
   ]
  },
  {
   "cell_type": "code",
   "execution_count": 34,
   "id": "575425d1-f981-4703-950c-1d9e8e4ae18f",
   "metadata": {
    "scrolled": true
   },
   "outputs": [
    {
     "name": "stdout",
     "output_type": "stream",
     "text": [
      "Starting optimization...\n",
      "Initial energy: 30.8389\n",
      "\n",
      "Iteration 0\n",
      "-----------\n",
      "\n",
      "average tau: 0.10000000000000002\n",
      "gradient norm: 0.7951063017898952\n",
      "energy: 29.563246\n",
      "function calls: 57\n",
      "\n",
      "timestamp: 00:00:05.13\n",
      "\n",
      "Iteration 1\n",
      "-----------\n",
      "\n",
      "average tau: 0.03500000000000001\n",
      "gradient norm: 0.10207539112264477\n",
      "energy: 30.065194\n",
      "function calls: 57\n",
      "\n",
      "timestamp: 00:00:09.91\n",
      "\n",
      "Iteration 2\n",
      "-----------\n",
      "\n",
      "average tau: 0.03150000000000001\n",
      "gradient norm: 0.08601088044462825\n",
      "energy: 29.666691\n",
      "function calls: 57\n",
      "\n",
      "timestamp: 00:00:14.70\n",
      "\n",
      "Iteration 3\n",
      "-----------\n",
      "\n",
      "average tau: 0.03150000000000001\n",
      "gradient norm: 0.09882982462937727\n",
      "energy: 29.322411\n",
      "function calls: 57\n",
      "\n",
      "timestamp: 00:00:19.81\n",
      "\n",
      "Iteration 4\n",
      "-----------\n",
      "\n",
      "average tau: 0.03150000000000001\n",
      "gradient norm: 0.09315609262414244\n",
      "energy: 29.277213\n",
      "function calls: 57\n",
      "\n",
      "timestamp: 00:00:24.56\n",
      "\n"
     ]
    }
   ],
   "source": [
    "filepath = (datetime.now().strftime(\n",
    "    \"C:\\\\Users\\\\arnew\\\\Documents\\\\ExperimentalData\\\\vqa\\\\test_file_buckling\"\n",
    "    \"_%Y_%m_%d_%H_%M_%S.hdf5\"\n",
    "))\n",
    "\n",
    "# only 5 iterations for demo\n",
    "fvqe_options = FvqeOptions(\n",
    "    num_reps=1,\n",
    "    maxiter=5,\n",
    "    max_tau=200,\n",
    "    adapt_tau_increment=True,\n",
    "    g_c = 0.1,\n",
    "    filter_fn = 'exponential'\n",
    ")\n",
    "\n",
    "ply_angle_counts = np.array([1, 2, 3, 2])\n",
    "assert ply_angle_counts.sum() == num_plies\n",
    "\n",
    "max_buckling_factor = 130\n",
    "\n",
    "results_buckling = fvqe_experiment_buckling(\n",
    "    filepath, laminate, ply_angle_counts, max_buckling_factor,\n",
    "    encoding, fvqe_options,\n",
    "    constraint_settings=constraints,\n",
    "    material_opts = material_opts,\n",
    "    print_info=True,\n",
    "    vqc='perm'\n",
    ")"
   ]
  },
  {
   "cell_type": "code",
   "execution_count": 35,
   "id": "4d26841a-b6a1-47cc-9790-9725cb088fcb",
   "metadata": {},
   "outputs": [
    {
     "name": "stdout",
     "output_type": "stream",
     "text": [
      "Final VQC parameters (rounded to 3 significant digits):\n",
      "[1.65 1.56 1.52 1.6  1.5  1.63 1.64 1.85 1.51 1.76 1.48 1.58 1.7  1.32\n",
      " 2.25 1.76 1.22 1.59 1.75 1.38 1.8  1.66 1.34 1.61 1.53 1.82 1.73 1.54]\n"
     ]
    },
    {
     "data": {
      "image/png": "[encoded data removed]",
      "text/plain": [
       "<Figure size 640x480 with 1 Axes>"
      ]
     },
     "metadata": {},
     "output_type": "display_data"
    }
   ],
   "source": [
    "results = hdf5_to_fvqe_result(filepath)\n",
    "\n",
    "print(\"Final VQC parameters (rounded to 3 significant digits):\")\n",
    "print(round_to_num_signif_digits(results.parameters[-1], precision=3))\n",
    "\n",
    "fig, ax = plt.subplots()\n",
    "\n",
    "ax.plot(results.energies,'r.--')\n",
    "ax.set_xlabel(\"Iteration\")\n",
    "ax.set_ylabel(\"Energy\")\n",
    "plt.show()"
   ]
  },
  {
   "cell_type": "markdown",
   "id": "2c0d57a7-7795-4519-9063-3c13c0cecee7",
   "metadata": {},
   "source": [
    "# Appendix"
   ]
  },
  {
   "cell_type": "markdown",
   "id": "0331b953-9d3b-45ea-a113-e38661d828dc",
   "metadata": {},
   "source": [
    "## Why use our own statevector simulator? A comparison between circuit evaluations of `ParameterizedState` and Qiskit statevectors"
   ]
  },
  {
   "cell_type": "code",
   "execution_count": 36,
   "id": "2a142fac-4790-4000-bdf2-30155b67ee3d",
   "metadata": {},
   "outputs": [],
   "source": [
    "from ssr_with_fvqe.parameterized_state import ParameterizedState\n",
    "from qiskit.circuit import QuantumCircuit, ParameterVector\n",
    "from qiskit.quantum_info import Statevector"
   ]
  },
  {
   "cell_type": "markdown",
   "id": "e75f09b1-3cc3-4417-b3d8-ca8b27944788",
   "metadata": {},
   "source": [
    "🔷 We started out using *Qiskit* for our simulations, but then moved to a custom implementation as *Qiskit*'s local simulation capabilities are not only limited, but also fairly inefficient. We thus leveraged the specific gate set in our quantum circuits to achieve a direct implementation of the gates on the elements of a statevector. This is generally more efficient than the general matrix based approach that for example *Qiskit* employs when converting from quantum circuits and state vectors on a local computer."
   ]
  },
  {
   "cell_type": "code",
   "execution_count": 37,
   "id": "d7201b06-79f6-4d03-a6df-4b5708b7f3ba",
   "metadata": {},
   "outputs": [],
   "source": [
    "def build_hwe_circuit_qiskit(num_qubits: int, num_reps: int) -> QuantumCircuit:\n",
    "    \"\"\"Create hardware efficient variational circuit\n",
    "\n",
    "    Args:\n",
    "        num_qubits (int): The number of qubits\n",
    "        num_reps (int): The number of repetitions in the circuit\n",
    "\n",
    "    Returns:\n",
    "        QuantumCircuit: The variational circuit\n",
    "\n",
    "    \"\"\"\n",
    "    qc = QuantumCircuit(num_qubits)\n",
    "    num_pars_rep = 2 * num_qubits - 2\n",
    "    num_parameters = num_qubits + num_reps * num_pars_rep\n",
    "    pars = ParameterVector('p', num_parameters)\n",
    "    # print(len(pars))\n",
    "    for q in range(num_qubits):\n",
    "        qc.ry(pars[q], q)\n",
    "    par_counter = num_qubits\n",
    "    for r in range(num_reps):\n",
    "        for q in range(0, num_qubits - 1, 2):  # minus 1 to exclude last qubits\n",
    "            qc.cx(q, q + 1)\n",
    "            qc.ry(pars[par_counter], q)\n",
    "            qc.ry(pars[par_counter + 1], q + 1)\n",
    "            par_counter += 2\n",
    "        for q in range(1, num_qubits - 1, 2):\n",
    "            qc.cx(q, q + 1)\n",
    "            qc.ry(pars[par_counter], q)\n",
    "            qc.ry(pars[par_counter + 1], q + 1)\n",
    "            par_counter += 2\n",
    "    assert par_counter == num_parameters\n",
    "    return qc"
   ]
  },
  {
   "cell_type": "markdown",
   "id": "4b92c656-6d81-4ea1-b3ba-add02c651fb5",
   "metadata": {},
   "source": [
    "🔷 When accounting correctly for the ordering of qubits in the respective implementations, they yield the same results (up to rounding errors `< 1e12`)"
   ]
  },
  {
   "cell_type": "code",
   "execution_count": 38,
   "id": "245c17c1-21ba-4262-8858-6ed6ad3bd2a9",
   "metadata": {},
   "outputs": [
    {
     "data": {
      "text/plain": [
       "np.float64(0.0)"
      ]
     },
     "execution_count": 38,
     "metadata": {},
     "output_type": "execute_result"
    }
   ],
   "source": [
    "num_qubits = 16\n",
    "num_reps = 2\n",
    "\n",
    "qc: QuantumCircuit = build_hwe_circuit_qiskit(num_qubits,num_reps)\n",
    "parameterized_state: ParameterizedState = parameterized_hwe_state(num_qubits,num_reps)\n",
    "\n",
    "param_values = np.random.rand(qc.num_parameters) * 2 * np.pi\n",
    "\n",
    "statevec_qiskit = Statevector(qc.assign_parameters(param_values))\n",
    "statevec_qiskit_data = np.array([statevec_qiskit[dense_to_state(x, num_qubits)] for x in range(2**num_qubits)])\n",
    "\n",
    "statevec_parameterized_state = parameterized_state.evaluate(param_values).flatten()\n",
    "\n",
    "np.abs(statevec_qiskit_data - statevec_parameterized_state).sum().round(decimals = 12)"
   ]
  },
  {
   "cell_type": "markdown",
   "id": "131656e4-f4cb-4855-9ede-ad18a70783a2",
   "metadata": {},
   "source": [
    "🔷 But our implementation runs significantly faster, which means that the effort of implementing this ourselves was definitely worth it 😁"
   ]
  },
  {
   "cell_type": "code",
   "execution_count": 39,
   "id": "0f0fbf0e-0687-4bfd-81c9-408b94d80ce7",
   "metadata": {},
   "outputs": [
    {
     "name": "stdout",
     "output_type": "stream",
     "text": [
      "Qiskit Statevector average time: 0.171739 seconds\n",
      "ParameterizedState evaluate average time: 0.028070 seconds\n"
     ]
    }
   ],
   "source": [
    "import timeit\n",
    "\n",
    "num_trials = 100\n",
    "\n",
    "def benchmark_qiskit():\n",
    "    return Statevector(qc.assign_parameters(param_values))\n",
    "\n",
    "def benchmark_parameterized_state():\n",
    "    return parameterized_state.evaluate(param_values)\n",
    "\n",
    "# Run the benchmarks\n",
    "qiskit_time = timeit.timeit(benchmark_qiskit, number=num_trials)\n",
    "parameterized_state_time = timeit.timeit(benchmark_parameterized_state, number=num_trials)\n",
    "\n",
    "# Print the average execution time\n",
    "print(f\"Qiskit Statevector average time: {qiskit_time / num_trials:.6f} seconds\")\n",
    "print(f\"ParameterizedState evaluate average time: {parameterized_state_time / num_trials:.6f} seconds\")"
   ]
  }
 ],
 "metadata": {
  "kernelspec": {
   "display_name": "Python 3 (ipykernel)",
   "language": "python",
   "name": "python3"
  },
  "language_info": {
   "codemirror_mode": {
    "name": "ipython",
    "version": 3
   },
   "file_extension": ".py",
   "mimetype": "text/x-python",
   "name": "python",
   "nbconvert_exporter": "python",
   "pygments_lexer": "ipython3",
   "version": "3.11.9"
  }
 },
 "nbformat": 4,
 "nbformat_minor": 5
}
